{
  "nbformat": 4,
  "nbformat_minor": 0,
  "metadata": {
    "colab": {
      "provenance": []
    },
    "kernelspec": {
      "name": "python3",
      "display_name": "Python 3"
    },
    "language_info": {
      "name": "python"
    }
  },
  "cells": [
    {
      "cell_type": "markdown",
      "source": [
        "# **Therory Questions:**\n",
        "\n"
      ],
      "metadata": {
        "id": "5oQ18x4WwCPv"
      }
    },
    {
      "cell_type": "markdown",
      "source": [
        "1. What are data structures, and why are they important?\n",
        "- Data structure is a way of organising and storing data so that it can be accessed and manipulated.\n",
        "Data structures like lists, sets, dictionaries, and tuples are optimized for specific operations.\n",
        "\n",
        "\n",
        "2. Explain the difference between mutable and immutable data types with examples.\n",
        "- Mutable refers which we can modify after creating.\n",
        " - eg- list,dictionary, set\n",
        "\n",
        "- Immutable refers which we can not modify after creating.\n",
        " - eg- str, tuple\n",
        "\n",
        "\n",
        "3. What are the main differences between lists and tuples in Python?\n",
        "-The main difference between list and tuple is, List are mutable but tuple are not mutable.\n",
        "\n",
        "\n",
        "4. Describe how dictionaries store data.\n",
        "- Dictionary store data in the form of key and value pair\n",
        " - key:value\n",
        "\n",
        "  - key can be of any types but duplicate keys are not allowed.\n",
        "  - value can be any types and duplicate values are also allowed.\n",
        "\n",
        "\n",
        "5. Why might you use a set instead of a list in Python?\n",
        "- sets automatically stores unique data so we can prefer set than list. Also we can perform set operation in set but not in list\n",
        "\n",
        "\n",
        "6. What is a string in Python, and how is it different from a list?\n",
        "- A string is a sequence of characters enclosed in quotes. It's one of the most commonly used built-in data types, used to represent textual data.\n",
        " - eg- \"Ram\",\"Aaryan\",\"I am studying at pw skills\"\n",
        "- Str is different from list, like if we want to store password which should not be modified in future so we can use string as string is immutable.\n",
        "\n",
        "\n",
        "7. How do tuples ensure data integrity in Python?\n",
        "- As tuples are immutable and we can't change the the elements of tuples that ensure the data intergrity.\n",
        "- for example we are storing employee id of any employee in any organization, we will not want to change the employee id by any mistake, so we can store in tuple and this will help in ensuring data integrity.\n",
        "\n",
        "\n",
        "8. What is a hash table, and how does it relate to dictionaries in Python?\n",
        "- A hash table is a data structure that stores key-value pairs and provides fast access to data based on keys.\n",
        "- Dictionary use hash table to store data as key and value, which helps in fast retreival of data and also insertation and deletetion.\n",
        "\n",
        "\n",
        "9. Can lists contain different data types in Python?\n",
        "- Yes, list can contain different data types in a same list.\n",
        " - eg- ['Aaryan',43,True,45.6,3+8j,in,[34,abe,False],{'a':23, 'b':56}]\n",
        "    - Here in the above list example you can see we have stored data like str,bool,int,complex,dict,list under list.\n",
        "\n",
        "\n",
        "10. Explain why strings are immutable in Python.\n",
        "- Strings are immutable because we can't change the value or elements after creating.\n",
        "- eg- PDF\n",
        "\n",
        "\n",
        "11. What advantages do dictionaries offer over lists for certain tasks?\n",
        "- If we need fast and specific data via key, we should you dictionary.\n",
        "- If we need an ordered collection of collection of data we should use list.\n",
        "\n",
        "\n",
        "12. Describe a scenario where using a tuple would be preferable over a list.\n",
        "- As tuple is immutable and list are mutable, so if we want some data like cordinates or aadhar number or pan card number which there is no necessary of modification at all in future.In these scenario we can use tuple to store data.\n",
        "\n",
        "\n",
        "13. How do sets handle duplicate values in Python?\n",
        "- As set are unordered and unique collection of elements, it doesn't allow duplicate elements. If we will store duplicate value it will return the unique elements only single time.\n",
        " - eg- if we will store duplicate value in set it will give the every duplicate value only single time.\n",
        "    - Input- set{1,4,2,675,43,2,1,8,8,12,12,8,8}\n",
        "    - output- {1,2,8,12,4,675,43}\n",
        "\n",
        "\n",
        "14. How does the \"in\" keyword work differently for lists and dictionaries?\n",
        "- In list \"in\" is used for checking whether the elements is avilable in that list, if the elements will be avilabe then if will 'True' or else 'False'.\n",
        "- In dictionary \"in\" is used for to check whether the key are avilable in that dict or not by returning \"True\" for yes and \"False\" for no.\n",
        "\n",
        "\n",
        "15. Can you modify the elements of a tuple? Explain why or why not.\n",
        "- We can't modify the elements of tuple as tuple is immutable. Also we can't do slicing ths also leads that we can't modify the elements of tuple.\n",
        "\n",
        "\n",
        "16. What is a nested dictionary, and give an example of its use case?\n",
        "- Nested dictionary means placing a dictionary as values under a outer dictionary using curly{} bracket.\n",
        " - students = {\n",
        "    'name': \"Aaaryan\",\n",
        "    'score':\n",
        "     {'Math':70, 'Science': 80, 'Hindi':95}\n",
        "    \n",
        "    }\n",
        "\n",
        "\n",
        "\n",
        "17. Describe the time complexity of accessing elements in a dictionary.\n",
        "- It totally depends upon the number of elements and order of element, if we have 100 key pair value then if we are accessing the 1st pair it will take less time incomparison of 100th pair.\n",
        "\n",
        "\n",
        "18. In what situations are lists preferred over dictionaries?\n",
        "- In list, we can directly store number of hetrogenous elements but for storing in dictionary we need to use key and value.\n",
        "- In list we can do sorting, capatalization and also spilit but in dict we can't do this.\n",
        "\n",
        "\n",
        "19. Why are dictionaries considered unordered, and how does that affect data retrieval?\n",
        "- Dictionary are cinsidered as unordered because its not storing in the same order as we are creating. This affect data retrieval in dictionary.\n",
        "\n",
        "\n",
        "20. Explain the difference between a list and a dictionary in terms of data retrieval.\n",
        "- In List we can retrive the data as we have stored but in in dictionary we can't retrieve the data in same order.\n",
        "- In list we can access the data by index but in dictionary we can access data by key.\n",
        "- In list retrieval time is fast for accessing data indexing but in dictionary for fast accessing we need harsh table.\n",
        "- When we know order and position, we can use list. And when we need specific name details we can use dictionary.\n",
        "\n",
        "\n"
      ],
      "metadata": {
        "id": "aVvvycbAwI5o"
      }
    },
    {
      "cell_type": "markdown",
      "source": [
        "# **Practical Question Below:**\n"
      ],
      "metadata": {
        "id": "U_YtPxy3wJCf"
      }
    },
    {
      "cell_type": "code",
      "execution_count": null,
      "metadata": {
        "colab": {
          "base_uri": "https://localhost:8080/"
        },
        "id": "vOxPWQRsQ5mD",
        "outputId": "d7f689a2-3220-4134-c934-80ff8a8e5ca3",
        "collapsed": true
      },
      "outputs": [
        {
          "output_type": "stream",
          "name": "stdout",
          "text": [
            "My name is Aaryan Raj\n",
            "Pyt\n",
            "[1, 2, 3, 4, 5]\n",
            "1\n",
            "2\n",
            "3\n",
            "4\n",
            "5\n",
            "[1, 2, 3, 4, 10]\n",
            "[1, 2, 4, 5]\n",
            "b\n",
            "[50, 40, 30, 20, 10]\n"
          ]
        }
      ],
      "source": [
        "# 1. Write a code to create a string with your name and print it.\n",
        "\n",
        "str1 =\"My name is Aaryan Raj\"\n",
        "print(str1)\n",
        "\n"
      ]
    },
    {
      "cell_type": "code",
      "source": [
        "#2. Write a code to find the length of the string \"Hello World\".\n",
        "\n",
        "str2 = \"Hello world\"\n",
        "print(len(str2))\n"
      ],
      "metadata": {
        "id": "EWop4n-8RBSp",
        "outputId": "a0a5595c-f05e-4fb7-cbb3-1ba3789c4cfc",
        "colab": {
          "base_uri": "https://localhost:8080/"
        },
        "collapsed": true
      },
      "execution_count": null,
      "outputs": [
        {
          "output_type": "stream",
          "name": "stdout",
          "text": [
            "11\n"
          ]
        }
      ]
    },
    {
      "cell_type": "code",
      "source": [
        "#3. Write a code to slice the first 3 characters from the string \"Python Programming\".\n",
        "\n",
        "str3 = \"Python Programming\"\n",
        "print(str3[:3])\n",
        "\n"
      ],
      "metadata": {
        "id": "HIUG-tNRJzTL"
      },
      "execution_count": null,
      "outputs": []
    },
    {
      "cell_type": "code",
      "source": [
        "#4. Write a code to convert the string \"hello\" to uppercase.\n",
        "\n",
        "str4 = \"hello\"\n",
        "str4.upper()\n",
        "print(str4)\n"
      ],
      "metadata": {
        "id": "Q6wZiUx4J3Y6"
      },
      "execution_count": null,
      "outputs": []
    },
    {
      "cell_type": "code",
      "source": [
        "#5. Write a code to replace the word \"apple\" with \"orange\" in the string \"I like apple\".\n",
        "\n",
        "str4 = \"I like apple.\"\n",
        "str4.replace(\"apple\" , \"orange\")\n",
        "print(str4)"
      ],
      "metadata": {
        "colab": {
          "base_uri": "https://localhost:8080/"
        },
        "id": "8gy4X56AJ3i0",
        "outputId": "bbfc0095-a6df-44ba-d0d7-9b4c0079e102"
      },
      "execution_count": null,
      "outputs": [
        {
          "output_type": "stream",
          "name": "stdout",
          "text": [
            "I like apple.\n"
          ]
        }
      ]
    },
    {
      "cell_type": "code",
      "source": [
        "#6. Write a code to create a list with numbers 1 to 5 and print it.\n",
        "\n",
        "# we can write in two ways:\n",
        "list1 = list(range(1,6))\n",
        "print(list1)\n",
        "\n",
        "#and 2.\n",
        "l = []\n",
        "for l in range(1,6):\n",
        "    print(l)\n",
        "\n"
      ],
      "metadata": {
        "id": "VWLOn5GdJ3o7"
      },
      "execution_count": null,
      "outputs": []
    },
    {
      "cell_type": "code",
      "source": [
        "#7. Write a code to append the number 10 to the list |1, 2, 3, 4).\n",
        "\n",
        "l2 = [1,2,3,4]\n",
        "l2.append(10)\n",
        "print(l2)\n",
        "\n",
        "\n"
      ],
      "metadata": {
        "id": "Ixg0gYLIJ3te"
      },
      "execution_count": null,
      "outputs": []
    },
    {
      "cell_type": "code",
      "source": [
        "#8. Write a code to remove the number 3 from the list [1, 2, 3, 4, 5].\n",
        "\n",
        "l3 = [1,2,3,4,5]\n",
        "l3.pop(2)\n",
        "print(l3)\n",
        "\n"
      ],
      "metadata": {
        "id": "vlgKbbSOJ3zE"
      },
      "execution_count": null,
      "outputs": []
    },
    {
      "cell_type": "code",
      "source": [
        "#9. Write a code to access the second element in the list ['a', 'b', 'c', 'd'].\n",
        "\n",
        "l4 = ['a', 'b', 'c', 'd']\n",
        "print(l4[1])\n",
        "\n"
      ],
      "metadata": {
        "id": "AeL6V9-_KFYq"
      },
      "execution_count": null,
      "outputs": []
    },
    {
      "cell_type": "code",
      "source": [
        "#10. Write a code to reverse the list [10, 20, 30, 40, 50].\n",
        "\n",
        "l5 = [10,20,30,40,50]\n",
        "print(l5[::-1])"
      ],
      "metadata": {
        "id": "Ja7pL7cJKFsi"
      },
      "execution_count": null,
      "outputs": []
    },
    {
      "cell_type": "code",
      "source": [
        "#11. Write a code to create a tuple with the elements 100, 200, 300 and print it.\n",
        "\n",
        "t1= (100, 200, 300)\n",
        "print(type(t1))"
      ],
      "metadata": {
        "colab": {
          "base_uri": "https://localhost:8080/"
        },
        "id": "X1JmzH43KodB",
        "outputId": "980452ba-865c-4707-89a2-b711c5195051"
      },
      "execution_count": null,
      "outputs": [
        {
          "output_type": "stream",
          "name": "stdout",
          "text": [
            "<class 'tuple'>\n"
          ]
        }
      ]
    },
    {
      "cell_type": "code",
      "source": [
        "#12. Write a code to access the second-to-last element of the tuple (red', 'green', 'blue', yellow').\n",
        "t2= (\"red\", \"green\", \"blue\", \"yellow\")\n",
        "print(t2[1:4])"
      ],
      "metadata": {
        "colab": {
          "base_uri": "https://localhost:8080/"
        },
        "id": "LcHHq6rDKofn",
        "outputId": "e8b2f54a-bce9-4d99-ead7-b583c9d298d3"
      },
      "execution_count": null,
      "outputs": [
        {
          "output_type": "stream",
          "name": "stdout",
          "text": [
            "('green', 'blue', 'yellow')\n"
          ]
        }
      ]
    },
    {
      "cell_type": "code",
      "source": [
        "#13. Write a code to find the minimum number in the tuple (10, 20, 5, 15).\n",
        "t3=(10,20,5,15)\n",
        "print(max(t3))"
      ],
      "metadata": {
        "colab": {
          "base_uri": "https://localhost:8080/"
        },
        "id": "r0_xgU8RKooE",
        "outputId": "01edbb9e-f54e-43d4-96b6-b11953408778"
      },
      "execution_count": null,
      "outputs": [
        {
          "output_type": "stream",
          "name": "stdout",
          "text": [
            "20\n"
          ]
        }
      ]
    },
    {
      "cell_type": "code",
      "source": [
        "#14. Write a code to find the index of the element \"cat\" in the tuple ('dog', 'cat', rabbit').\n",
        "t4=('dog', 'cat', 'rabbit')\n",
        "print(t4.index(\"cat\"))"
      ],
      "metadata": {
        "colab": {
          "base_uri": "https://localhost:8080/"
        },
        "id": "ZrY4KV9CRyyn",
        "outputId": "6ad00dbe-c97c-438e-8ab7-e8924631791b"
      },
      "execution_count": null,
      "outputs": [
        {
          "output_type": "stream",
          "name": "stdout",
          "text": [
            "1\n"
          ]
        }
      ]
    },
    {
      "cell_type": "code",
      "source": [
        "#15. Write a code to create a tuple containing three different fruits and check if \"kiwi\" is in it.\n",
        "#I have made tuple including kiwi and excluding kiwi\n",
        "\n",
        "fruits=(\"mango\", \"orange\", \"kiwi\")\n",
        "\"kiwi\" in fruits\n",
        "\n",
        "fruits=(\"mango\", \"orange\", \"apple\")\n",
        "\"kiwi\" in fruits"
      ],
      "metadata": {
        "colab": {
          "base_uri": "https://localhost:8080/"
        },
        "id": "59bHO77wKotY",
        "outputId": "2f3713f4-f923-4cd5-e8b4-820f97aeafd0"
      },
      "execution_count": null,
      "outputs": [
        {
          "output_type": "execute_result",
          "data": {
            "text/plain": [
              "False"
            ]
          },
          "metadata": {},
          "execution_count": 37
        }
      ]
    },
    {
      "cell_type": "code",
      "source": [
        "#16. Write a code to create a set with the elements 'a', 'b', 'c' and print it.\n",
        "\n",
        "set1= {'a', 'b', 'c'}\n",
        "print(set1)\n"
      ],
      "metadata": {
        "id": "hoCupbDLLG65",
        "colab": {
          "base_uri": "https://localhost:8080/"
        },
        "outputId": "5bfb4f9f-0439-432d-e8fc-de711e7d6ead"
      },
      "execution_count": null,
      "outputs": [
        {
          "output_type": "stream",
          "name": "stdout",
          "text": [
            "{'a', 'c', 'b'}\n"
          ]
        }
      ]
    },
    {
      "cell_type": "code",
      "source": [
        "#17. Write a code to clear all elements from the set 11, 2, 3, 4, 55.\n",
        "\n",
        "set2 = {11, 2, 3, 4, 55}\n",
        "set2.clear()\n",
        "print(set2)"
      ],
      "metadata": {
        "id": "zA6fanOjLG9T",
        "colab": {
          "base_uri": "https://localhost:8080/"
        },
        "outputId": "7268b378-3a9b-425e-b793-7dab9dbc6239"
      },
      "execution_count": null,
      "outputs": [
        {
          "output_type": "stream",
          "name": "stdout",
          "text": [
            "{2, 3, 4, 55, 11}\n"
          ]
        }
      ]
    },
    {
      "cell_type": "code",
      "source": [
        "#18. Write a code to remove the element 4 from the set 11, 2, 3, 4}.\n",
        "set3 = {11,2,3,4}\n",
        "\n",
        "set3.remove(4)\n",
        "print(set3)"
      ],
      "metadata": {
        "id": "pr3RThC4LG_7",
        "colab": {
          "base_uri": "https://localhost:8080/"
        },
        "outputId": "6cef82f0-3036-45b6-f169-b6e4a7e88434"
      },
      "execution_count": null,
      "outputs": [
        {
          "output_type": "stream",
          "name": "stdout",
          "text": [
            "{11, 2, 3}\n"
          ]
        }
      ]
    },
    {
      "cell_type": "code",
      "source": [
        "#19. Write a code to find the union of two sets {1, 2, 3} and 13, 4, 5}.\n",
        "s1= {1,2,3}\n",
        "s2= {13,4,5}\n",
        "union=s1 | s2\n",
        "print(\"The union of the set is:\" ,union)"
      ],
      "metadata": {
        "id": "E5r-snRjLHCT",
        "colab": {
          "base_uri": "https://localhost:8080/"
        },
        "outputId": "51a67974-0941-4dca-c13a-c094df2fce2d"
      },
      "execution_count": null,
      "outputs": [
        {
          "output_type": "stream",
          "name": "stdout",
          "text": [
            "The union of the set is: {1, 2, 3, 4, 5, 13}\n"
          ]
        }
      ]
    },
    {
      "cell_type": "code",
      "source": [
        "#20. Write a code to find the intersection of two sets {1, 2, 3} and {2, 3, 4}.\n",
        "s1= {1,2,3}\n",
        "s2= {2,3,4}\n",
        "intersection= s1 & s2\n",
        "print(\"The intersection of set is:\", intersection)"
      ],
      "metadata": {
        "id": "b_NcDu6eLHE5",
        "colab": {
          "base_uri": "https://localhost:8080/"
        },
        "outputId": "173a4cda-ba18-434f-a77a-a895c1a46b36"
      },
      "execution_count": null,
      "outputs": [
        {
          "output_type": "stream",
          "name": "stdout",
          "text": [
            "The intersection of set is: {2, 3}\n"
          ]
        }
      ]
    },
    {
      "cell_type": "code",
      "source": [
        "#21. Write a code to create a dictionary with the keys \"name\", \"age\", and \"city\", and print it.\n",
        "dict1= {\"name\":\"Aaryan Raj\", \"age\":24, \"city\":\"Bihar\"}\n",
        "print(dict1)"
      ],
      "metadata": {
        "colab": {
          "base_uri": "https://localhost:8080/"
        },
        "id": "tYNn480fLHJU",
        "outputId": "a69ea991-f650-4ea0-fdec-9fa93d5d2927"
      },
      "execution_count": null,
      "outputs": [
        {
          "output_type": "stream",
          "name": "stdout",
          "text": [
            "{'name': 'Aaryan Raj', 'age': 24, 'city': 'Bihar'}\n"
          ]
        }
      ]
    },
    {
      "cell_type": "code",
      "source": [
        "#22. Write a code to add a new key-value pair \"country\": \"USA\" to the dictionary {'name: 'John', 'age: 25}.\n",
        "\n",
        "dict1= {'name':'John','age':25}\n",
        "dict1['country'] = 'USA'\n",
        "print(dict1)"
      ],
      "metadata": {
        "id": "gRd7f2lcLP2n",
        "colab": {
          "base_uri": "https://localhost:8080/"
        },
        "outputId": "30e81756-a638-419d-e121-d6a8b2e1a0f5"
      },
      "execution_count": null,
      "outputs": [
        {
          "output_type": "stream",
          "name": "stdout",
          "text": [
            "{'name': 'John', 'age': 25, 'country': 'USA'}\n"
          ]
        }
      ]
    },
    {
      "cell_type": "code",
      "source": [
        "#23. Write a code to access the value associated with the key \"name\" in the dictionary {'name: 'Alice, 'age': 30}.\n",
        "dict2= {'name': 'Alice', 'age': 30}\n",
        "value=dict1['name']\n",
        "print(value)\n"
      ],
      "metadata": {
        "id": "XPW82zCsLP5c",
        "colab": {
          "base_uri": "https://localhost:8080/"
        },
        "outputId": "8f112a24-9a64-4153-c553-a7c58f37b680"
      },
      "execution_count": null,
      "outputs": [
        {
          "output_type": "stream",
          "name": "stdout",
          "text": [
            "John\n"
          ]
        }
      ]
    },
    {
      "cell_type": "code",
      "source": [
        "#24. Write a code to remove the key \"age\" from the dictionary {'name: 'Bob', 'age: 22, 'city: 'New York'}.\n",
        "\n",
        "dict3= {'name': 'Bob', 'age': 22, 'city': 'New York'}\n",
        "dict3.pop('age')\n",
        "\n",
        "print(dict3)\n"
      ],
      "metadata": {
        "id": "ehC51Sd0LP8D",
        "colab": {
          "base_uri": "https://localhost:8080/"
        },
        "outputId": "227b6e07-77ef-4157-cb87-09fd16cc98d2"
      },
      "execution_count": null,
      "outputs": [
        {
          "output_type": "execute_result",
          "data": {
            "text/plain": [
              "{'name': 'Bob', 'city': 'New York'}"
            ]
          },
          "metadata": {},
          "execution_count": 44
        }
      ]
    },
    {
      "cell_type": "code",
      "source": [
        "#25. Write a code to check if the key \"city\" exists in the dictionary {'name: 'Alice', 'city: 'Paris'}.\n",
        "dict4= {'name': 'Alice', 'city': 'Paris'}\n",
        "\n",
        "print('city' in dict4) #if the output is true means city is existing in dict4"
      ],
      "metadata": {
        "id": "CA0pmGhVLP-J",
        "colab": {
          "base_uri": "https://localhost:8080/"
        },
        "outputId": "3ebc9a66-126a-4d32-8943-7f40ec9b1471"
      },
      "execution_count": null,
      "outputs": [
        {
          "output_type": "stream",
          "name": "stdout",
          "text": [
            "True\n"
          ]
        }
      ]
    },
    {
      "cell_type": "code",
      "source": [
        "#26. Write a code to create a list, a tuple, and a dictionary, and print them all.\n",
        "my_list= [10,2.4,'Aaryan','Raj',True]\n",
        "my_tuple= (20,4+8j, 'Aaryan','Raj',False )\n",
        "my_dict= {'name':'Aaryan Raj', 'age':24, 'study':'pwskilld', 'city':'bihar'}\n",
        "\n",
        "print(f\"My list is: {my_list}\\nMy tuple is: {my_tuple}\\nMy dictionary is: {my_dict}\")"
      ],
      "metadata": {
        "id": "MOozUfjELQC2",
        "colab": {
          "base_uri": "https://localhost:8080/"
        },
        "outputId": "72147836-7743-4e11-af7f-8f12943f62a9"
      },
      "execution_count": null,
      "outputs": [
        {
          "output_type": "stream",
          "name": "stdout",
          "text": [
            "My list is: [10, 2.4, 'Aaryan', 'Raj', True]\n",
            "My tuple is: (20, (4+8j), 'Aaryan', 'Raj', False)\n",
            "My dictionary is: {'name': 'Aaryan Raj', 'age': 24, 'study': 'pwskilld', 'city': 'bihar'}\n"
          ]
        }
      ]
    },
    {
      "cell_type": "code",
      "source": [
        "#27. Write a code to create a list of 5 random numbers between 1 and 100, sort it in ascending order, and print the result. (replaced)\n",
        "my_list=[43,78,12,56,67]\n",
        "print(sorted(my_list))"
      ],
      "metadata": {
        "id": "XXZCD9JNLQFK",
        "colab": {
          "base_uri": "https://localhost:8080/"
        },
        "outputId": "2e5a99a4-d2c2-419a-cfdf-06f11c2b5300"
      },
      "execution_count": null,
      "outputs": [
        {
          "output_type": "stream",
          "name": "stdout",
          "text": [
            "[12, 43, 56, 67, 78]\n"
          ]
        }
      ]
    },
    {
      "cell_type": "code",
      "source": [
        "#28. Write a code to create a list with strings and print the element at the third index.\n",
        "list1 = [\"I\" ,\"am\", \"studying\", \"at\", \"pwskills\"]\n",
        "print(list1[2])"
      ],
      "metadata": {
        "colab": {
          "base_uri": "https://localhost:8080/"
        },
        "id": "ud5EJ1kCVQ0c",
        "outputId": "59d52a10-fd9f-44e4-d9ee-a8e9a82b9a4a"
      },
      "execution_count": null,
      "outputs": [
        {
          "output_type": "stream",
          "name": "stdout",
          "text": [
            "studying\n"
          ]
        }
      ]
    },
    {
      "cell_type": "code",
      "source": [
        "#29. Write a code to combine two dictionaries into one and print the result.\n",
        "dict1 = {'name': 'Aaryan Raj', 'city':'Bihar'}\n",
        "dict2 = {'fruits': 'Mango', 'vegetable':'Potata'}\n",
        "d3 = dict1 | dict2\n",
        "print(d3)"
      ],
      "metadata": {
        "id": "ZB2BdZp4LQKL",
        "colab": {
          "base_uri": "https://localhost:8080/"
        },
        "outputId": "42badec0-ff3a-48f3-dd2a-04009ffb47e8"
      },
      "execution_count": null,
      "outputs": [
        {
          "output_type": "stream",
          "name": "stdout",
          "text": [
            "{'name': 'Aaryan Raj', 'city': 'Bihar', 'fruits': 'Mango', 'vegetable': 'Potata'}\n"
          ]
        }
      ]
    },
    {
      "cell_type": "code",
      "source": [
        "#30. Write a code to convert a list of strings into a set.\n",
        "list_of_string = ['aaryan', 'pwskills', 'data analytics']\n",
        "print(set(list_of_string))"
      ],
      "metadata": {
        "id": "SfpVA0TdLQM-",
        "colab": {
          "base_uri": "https://localhost:8080/"
        },
        "outputId": "6dd1889d-9a42-49d2-af86-f2c903687dfb"
      },
      "execution_count": null,
      "outputs": [
        {
          "output_type": "stream",
          "name": "stdout",
          "text": [
            "{'data analytics', 'pwskills', 'aaryan'}\n"
          ]
        }
      ]
    }
  ]
}